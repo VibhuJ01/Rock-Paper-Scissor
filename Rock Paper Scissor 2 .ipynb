{
  "nbformat": 4,
  "nbformat_minor": 0,
  "metadata": {
    "colab": {
      "name": "Untitled0.ipynb",
      "provenance": [],
      "authorship_tag": "ABX9TyMzkomBJHQ8TUbFS7DDvABr",
      "include_colab_link": true
    },
    "kernelspec": {
      "name": "python3",
      "display_name": "Python 3"
    },
    "language_info": {
      "name": "python"
    }
  },
  "cells": [
    {
      "cell_type": "markdown",
      "metadata": {
        "id": "view-in-github",
        "colab_type": "text"
      },
      "source": [
        "<a href=\"https://colab.research.google.com/github/VibhuJ01/Rock-Paper-Scissor/blob/main/Rock%20Paper%20Scissor%202%20.ipynb\" target=\"_parent\"><img src=\"https://colab.research.google.com/assets/colab-badge.svg\" alt=\"Open In Colab\"/></a>"
      ]
    },
    {
      "cell_type": "code",
      "execution_count": 1,
      "metadata": {
        "colab": {
          "base_uri": "https://localhost:8080/"
        },
        "id": "tWp3TeI4nlbv",
        "outputId": "25950da4-3ece-49f2-d309-5b6505a960f8"
      },
      "outputs": [
        {
          "output_type": "stream",
          "name": "stdout",
          "text": [
            "-------------------------------------------------\n",
            "Scoring->\n",
            "Player     Computer\n",
            "   0          0 \n",
            "\n",
            "Rock Paper Scissor: rock\n",
            "\n",
            "\n",
            "Your choice-> rock\n",
            "Computers Choice-> Paper\n",
            "\n",
            "\n",
            "Computer Won\n",
            "\n",
            "\n",
            "Scoring->\n",
            "Player     Computer\n",
            "   0          1 \n",
            "\n",
            "Do you want to continue(y/n)? n\n",
            "\n",
            "\n",
            "-------------------------------------------------\n",
            "Computer won\n",
            "Scoring->\n",
            "Player     Computer\n",
            "   0          1 \n",
            "\n"
          ]
        }
      ],
      "source": [
        "import random\n",
        "\n",
        "def scoring(user,comp):\n",
        "    global comp_score,user_score\n",
        "    if(user == comp):\n",
        "        print('Its a Tie')\n",
        "        print(\"No one get the point\")\n",
        "        print('\\n')\n",
        "        \n",
        "    elif(user == 'rock' and comp == 'scissor'):\n",
        "        print(\"Player Won\")\n",
        "        print('\\n')\n",
        "        user_score += 1\n",
        "        print('Scoring->')\n",
        "        print('Player     Computer')\n",
        "        print('  ',user_score,'        ',comp_score,'\\n')\n",
        "        \n",
        "    elif(user == 'paper' and comp == 'rock'):\n",
        "        print(\"Player Won\")\n",
        "        print('\\n')\n",
        "        user_score += 1\n",
        "        print('Scoring->')\n",
        "        print('Player     Computer')\n",
        "        print('  ',user_score,'        ',comp_score,'\\n')\n",
        "\n",
        "    elif(user == 'scissor' and comp == 'paper'):\n",
        "        print(\"Player Won\")\n",
        "        print('\\n')\n",
        "        user_score += 1\n",
        "        print('Scoring->')\n",
        "        print('Player     Computer')\n",
        "        print('  ',user_score,'        ',comp_score,'\\n')\n",
        "\n",
        "    else:\n",
        "        print(\"Computer Won\")\n",
        "        print('\\n')\n",
        "        comp_score += 1\n",
        "        print('Scoring->')\n",
        "        print('Player     Computer')\n",
        "        print('  ',user_score,'        ',comp_score,'\\n')\n",
        "\n",
        "\n",
        "op = ['Rock','Paper','Scissor']\n",
        "check = ['rock','paper','scissor']\n",
        "\n",
        "user_score = 0\n",
        "comp_score = 0\n",
        "\n",
        "\n",
        "\n",
        "ans = 'y'\n",
        "while ans == 'y':\n",
        "    print('-------------------------------------------------')\n",
        "    print('Scoring->')\n",
        "    print('Player     Computer')\n",
        "    print('  ',user_score,'        ',comp_score,'\\n')\n",
        "    user = str(input(\"Rock Paper Scissor: \"))\n",
        "    comp = random.choice(op)\n",
        "    if(user.lower() in check):\n",
        "        print('\\n')\n",
        "        print('Your choice->',user)\n",
        "        print('Computers Choice->',comp)\n",
        "        print('\\n')\n",
        "        user = user.lower()\n",
        "        comp = comp.lower()\n",
        "        scoring(user,comp)\n",
        "\n",
        "    else:\n",
        "        print('Wrong Input')\n",
        "        print(\"Retry\")\n",
        "\n",
        "    ans = str(input(\"Do you want to continue(y/n)? \"))\n",
        "\n",
        "print('\\n')\n",
        "print('-------------------------------------------------')\n",
        "if(user_score>comp_score):\n",
        "    print('Player Won')\n",
        "elif(user_score<comp_score):\n",
        "    print('Computer won')\n",
        "else:\n",
        "    print('Its a Tie')\n",
        "    \n",
        "print('Scoring->')\n",
        "print('Player     Computer')\n",
        "print('  ',user_score,'        ',comp_score,'\\n')"
      ]
    }
  ]
}